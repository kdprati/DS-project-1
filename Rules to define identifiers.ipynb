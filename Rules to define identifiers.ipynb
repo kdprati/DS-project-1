{
 "cells": [
  {
   "cell_type": "code",
   "execution_count": null,
   "id": "269f885f",
   "metadata": {},
   "outputs": [],
   "source": [
    "1.allowed char a-z,A-Z/0-9/_"
   ]
  },
  {
   "cell_type": "code",
   "execution_count": 1,
   "id": "6a3fd4b7",
   "metadata": {},
   "outputs": [],
   "source": [
    "test_emp = 101"
   ]
  },
  {
   "cell_type": "code",
   "execution_count": 2,
   "id": "400dee2d",
   "metadata": {},
   "outputs": [
    {
     "data": {
      "text/plain": [
       "101"
      ]
     },
     "execution_count": 2,
     "metadata": {},
     "output_type": "execute_result"
    }
   ],
   "source": [
    "test_emp"
   ]
  },
  {
   "cell_type": "code",
   "execution_count": 4,
   "id": "a3ae5a0d",
   "metadata": {},
   "outputs": [
    {
     "ename": "SyntaxError",
     "evalue": "invalid syntax (3780090809.py, line 1)",
     "output_type": "error",
     "traceback": [
      "\u001b[1;36m  Input \u001b[1;32mIn [4]\u001b[1;36m\u001b[0m\n\u001b[1;33m    test$test = 101\u001b[0m\n\u001b[1;37m        ^\u001b[0m\n\u001b[1;31mSyntaxError\u001b[0m\u001b[1;31m:\u001b[0m invalid syntax\n"
     ]
    }
   ],
   "source": [
    "test$test = 101"
   ]
  },
  {
   "cell_type": "code",
   "execution_count": null,
   "id": "7d931702",
   "metadata": {},
   "outputs": [],
   "source": [
    "2.identifiers never startswith number"
   ]
  },
  {
   "cell_type": "code",
   "execution_count": 5,
   "id": "0734fbf3",
   "metadata": {},
   "outputs": [
    {
     "ename": "SyntaxError",
     "evalue": "invalid syntax (3829900565.py, line 1)",
     "output_type": "error",
     "traceback": [
      "\u001b[1;36m  Input \u001b[1;32mIn [5]\u001b[1;36m\u001b[0m\n\u001b[1;33m    12a = 450\u001b[0m\n\u001b[1;37m      ^\u001b[0m\n\u001b[1;31mSyntaxError\u001b[0m\u001b[1;31m:\u001b[0m invalid syntax\n"
     ]
    }
   ],
   "source": [
    "12a = 450"
   ]
  },
  {
   "cell_type": "code",
   "execution_count": null,
   "id": "60b9dd25",
   "metadata": {},
   "outputs": [],
   "source": [
    "3.no limit on identifiers name"
   ]
  },
  {
   "cell_type": "code",
   "execution_count": 6,
   "id": "c0c29834",
   "metadata": {},
   "outputs": [],
   "source": [
    "aaaaaaaaaaaaaaaaaaaaaaaaaaaaaaaaaaaaaaaaaaaaa = 450"
   ]
  },
  {
   "cell_type": "code",
   "execution_count": 7,
   "id": "ad62b0e6",
   "metadata": {},
   "outputs": [
    {
     "data": {
      "text/plain": [
       "450"
      ]
     },
     "execution_count": 7,
     "metadata": {},
     "output_type": "execute_result"
    }
   ],
   "source": [
    "aaaaaaaaaaaaaaaaaaaaaaaaaaaaaaaaaaaaaaaaaaaaa"
   ]
  },
  {
   "cell_type": "code",
   "execution_count": null,
   "id": "e7c5ee2c",
   "metadata": {},
   "outputs": [],
   "source": [
    "but it is not recommnded to such name\n",
    "\n",
    "meaningfull variable name\n",
    "\n",
    "1.PascalCase\n",
    "2.camelCase\n",
    "3.snake_case"
   ]
  },
  {
   "cell_type": "code",
   "execution_count": null,
   "id": "7344a656",
   "metadata": {},
   "outputs": [],
   "source": [
    "PascalCase"
   ]
  },
  {
   "cell_type": "code",
   "execution_count": 8,
   "id": "65d72156",
   "metadata": {},
   "outputs": [],
   "source": [
    "EmpName= \"Suresh\""
   ]
  },
  {
   "cell_type": "code",
   "execution_count": 9,
   "id": "2d4d65ce",
   "metadata": {},
   "outputs": [
    {
     "data": {
      "text/plain": [
       "'Suresh'"
      ]
     },
     "execution_count": 9,
     "metadata": {},
     "output_type": "execute_result"
    }
   ],
   "source": [
    "EmpName"
   ]
  },
  {
   "cell_type": "code",
   "execution_count": null,
   "id": "b6b01446",
   "metadata": {},
   "outputs": [],
   "source": [
    "GPay\n",
    "PhonePay\n",
    "FedEx"
   ]
  },
  {
   "cell_type": "code",
   "execution_count": 10,
   "id": "ffe49c1e",
   "metadata": {},
   "outputs": [],
   "source": [
    "productId = 101"
   ]
  },
  {
   "cell_type": "code",
   "execution_count": 11,
   "id": "03dbc8eb",
   "metadata": {},
   "outputs": [],
   "source": [
    "emp_address_on_sal_slip = 'Pune'"
   ]
  },
  {
   "cell_type": "code",
   "execution_count": 12,
   "id": "aef3d895",
   "metadata": {},
   "outputs": [
    {
     "data": {
      "text/plain": [
       "'Pune'"
      ]
     },
     "execution_count": 12,
     "metadata": {},
     "output_type": "execute_result"
    }
   ],
   "source": [
    "emp_address_on_sal_slip"
   ]
  },
  {
   "cell_type": "code",
   "execution_count": 13,
   "id": "fdd79d2a",
   "metadata": {},
   "outputs": [],
   "source": [
    "ABC_PQR = 450"
   ]
  },
  {
   "cell_type": "code",
   "execution_count": 14,
   "id": "511b8b29",
   "metadata": {},
   "outputs": [
    {
     "data": {
      "text/plain": [
       "450"
      ]
     },
     "execution_count": 14,
     "metadata": {},
     "output_type": "execute_result"
    }
   ],
   "source": [
    "ABC_PQR"
   ]
  },
  {
   "cell_type": "code",
   "execution_count": null,
   "id": "45fc259f",
   "metadata": {},
   "outputs": [],
   "source": [
    "iPhone\n",
    "iBall\n",
    "eBay"
   ]
  }
 ],
 "metadata": {
  "kernelspec": {
   "display_name": "Python 3 (ipykernel)",
   "language": "python",
   "name": "python3"
  },
  "language_info": {
   "codemirror_mode": {
    "name": "ipython",
    "version": 3
   },
   "file_extension": ".py",
   "mimetype": "text/x-python",
   "name": "python",
   "nbconvert_exporter": "python",
   "pygments_lexer": "ipython3",
   "version": "3.9.13"
  }
 },
 "nbformat": 4,
 "nbformat_minor": 5
}
